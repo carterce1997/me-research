{
 "cells": [
  {
   "cell_type": "code",
   "execution_count": 184,
   "metadata": {},
   "outputs": [],
   "source": [
    "import pandas as pd\n",
    "import numpy as np\n",
    "import matplotlib.pyplot as plt"
   ]
  },
  {
   "cell_type": "code",
   "execution_count": 214,
   "metadata": {},
   "outputs": [],
   "source": [
    "def ME(trace, constraint, epsilon=1e-6, eta=1, max_iter=1000):\n",
    "        \n",
    "    def objective(lambda_):\n",
    "        \n",
    "        lambda_ = lambda_.reshape(1, -1)\n",
    "        \n",
    "        objective_trace = np.exp(np.dot(lambda_, constraint.T)).T # exp(<l, h(theta)>)\n",
    "        gradient_trace = constraint * objective_trace # h(theta) * exp(<l, h(theta)>)\n",
    "\n",
    "        objective = np.mean(objective_trace) # posterior expectation of exp(<l, h(theta)>)\n",
    "\n",
    "        gradient = np.mean(gradient_trace, axis=0) / objective # posterior expectation of gradient of exp(<l, h(theta)>) \n",
    "        \n",
    "        return gradient, np.log(objective)\n",
    "\n",
    "    \n",
    "    def print_state(i, lam, grad, objective_):\n",
    "        print(\n",
    "            f'iter {i} ' +\n",
    "            f'|lambda| = {round(np.linalg.norm(lam), 6)} ' +\n",
    "            f'|grad| = {round(np.linalg.norm(grad), 9)} '\n",
    "        )\n",
    "\n",
    "    lambda_ = np.zeros(constraint.shape[1])\n",
    "\n",
    "    gradient, log_objective = objective(lambda_)\n",
    "    previous_gradient = gradient\n",
    "\n",
    "    i = 0\n",
    "\n",
    "    print_state(i, lambda_, gradient, log_objective)\n",
    "\n",
    "    while np.linalg.norm(gradient) > epsilon:\n",
    "\n",
    "        lambda_ = lambda_ - eta * gradient\n",
    "        gradient, log_objective = objective(lambda_)\n",
    "\n",
    "        i += 1\n",
    "\n",
    "        if np.linalg.norm(gradient) / np.linalg.norm(previous_gradient) < .1:\n",
    "            previous_gradient = gradient\n",
    "            print_state(i, lambda_, gradient, log_objective)\n",
    "\n",
    "        if i >= max_iter:\n",
    "            print(f'Max iterations ({max_iter}) exceeded')\n",
    "            break\n",
    "\n",
    "    print_state(i, lambda_, gradient, log_objective)\n",
    "\n",
    "    weights = np.exp(np.dot(lambda_, constraint.T)).T / np.sum(np.exp(np.dot(lambda_, constraint.T)).T)\n",
    "    \n",
    "    return lambda_, weights, gradient\n",
    "    \n",
    "    "
   ]
  },
  {
   "cell_type": "code",
   "execution_count": 204,
   "metadata": {},
   "outputs": [],
   "source": [
    "trace = np.array([np.random.normal(1, 1, 100), np.random.gamma(2, 1, 100)]).T\n",
    "constraint = np.array([trace[:,0] - trace[:, 1]]).T"
   ]
  },
  {
   "cell_type": "code",
   "execution_count": 215,
   "metadata": {},
   "outputs": [
    {
     "name": "stdout",
     "output_type": "stream",
     "text": [
      "iter 0 |lambda| = 0.0 |grad| = 0.988304846 \n",
      "iter 6 |lambda| = 0.435241 |grad| = 0.098484562 \n",
      "iter 13 |lambda| = 0.496924 |grad| = 0.007899142 \n",
      "iter 20 |lambda| = 0.491891 |grad| = 0.000629139 \n",
      "iter 27 |lambda| = 0.492291 |grad| = 5.0146e-05 \n",
      "iter 34 |lambda| = 0.492259 |grad| = 3.997e-06 \n",
      "iter 38 |lambda| = 0.492261 |grad| = 9.42e-07 \n"
     ]
    }
   ],
   "source": [
    "lambda_, weights, gradient = ME(trace, constraint)"
   ]
  },
  {
   "cell_type": "code",
   "execution_count": 216,
   "metadata": {},
   "outputs": [
    {
     "data": {
      "text/plain": [
       "array([0.49226117])"
      ]
     },
     "execution_count": 216,
     "metadata": {},
     "output_type": "execute_result"
    }
   ],
   "source": [
    "lambda_"
   ]
  },
  {
   "cell_type": "code",
   "execution_count": 212,
   "metadata": {},
   "outputs": [
    {
     "data": {
      "text/plain": [
       "(1.3763734355757844, 1.3763734355767185)"
      ]
     },
     "execution_count": 212,
     "metadata": {},
     "output_type": "execute_result"
    }
   ],
   "source": [
    "np.sum(trace[:,0] * weights), np.sum(trace[:,1] * weights)"
   ]
  },
  {
   "cell_type": "code",
   "execution_count": 211,
   "metadata": {},
   "outputs": [
    {
     "data": {
      "text/plain": [
       "(0.9192557867422925, 1.907560632829841)"
      ]
     },
     "execution_count": 211,
     "metadata": {},
     "output_type": "execute_result"
    }
   ],
   "source": [
    "np.mean(trace[:,0]), np.mean(trace[:,1])"
   ]
  },
  {
   "cell_type": "code",
   "execution_count": null,
   "metadata": {},
   "outputs": [],
   "source": []
  }
 ],
 "metadata": {
  "kernelspec": {
   "display_name": "Python 3",
   "language": "python",
   "name": "python3"
  },
  "language_info": {
   "codemirror_mode": {
    "name": "ipython",
    "version": 3
   },
   "file_extension": ".py",
   "mimetype": "text/x-python",
   "name": "python",
   "nbconvert_exporter": "python",
   "pygments_lexer": "ipython3",
   "version": "3.8.2"
  },
  "toc": {
   "base_numbering": 1,
   "nav_menu": {},
   "number_sections": true,
   "sideBar": true,
   "skip_h1_title": false,
   "title_cell": "Table of Contents",
   "title_sidebar": "Contents",
   "toc_cell": false,
   "toc_position": {},
   "toc_section_display": true,
   "toc_window_display": false
  }
 },
 "nbformat": 4,
 "nbformat_minor": 4
}
